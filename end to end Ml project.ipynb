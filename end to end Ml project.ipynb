{
 "cells": [
  {
   "cell_type": "code",
   "execution_count": null,
   "id": "d114687c",
   "metadata": {},
   "outputs": [],
   "source": [
    "import pandas as pd \n",
    "import numpy as np \n",
    "import matplotlib.pyplot as plt \n",
    "%matplotlib inline"
   ]
  },
  {
   "cell_type": "markdown",
   "id": "dd295b26",
   "metadata": {},
   "source": [
    "Lets load the Boston House Pricing Dataset"
   ]
  },
  {
   "cell_type": "code",
   "execution_count": null,
   "id": "b3df74d1",
   "metadata": {},
   "outputs": [],
   "source": [
    "from sklearn.datasets import fetch_california_housing\n"
   ]
  },
  {
   "cell_type": "code",
   "execution_count": null,
   "id": "3c964f40",
   "metadata": {},
   "outputs": [],
   "source": [
    "boston_df=fetch_california_housing()"
   ]
  },
  {
   "cell_type": "code",
   "execution_count": null,
   "id": "dd5595f1",
   "metadata": {},
   "outputs": [],
   "source": [
    "boston_df.keys()"
   ]
  },
  {
   "cell_type": "code",
   "execution_count": null,
   "id": "b433e8f6",
   "metadata": {},
   "outputs": [],
   "source": [
    "## Lets check the description of the dataset\n",
    "print(boston_df.DESCR)"
   ]
  },
  {
   "cell_type": "code",
   "execution_count": null,
   "id": "cbcf17b7",
   "metadata": {},
   "outputs": [],
   "source": [
    "print(boston_df.data)"
   ]
  },
  {
   "cell_type": "code",
   "execution_count": null,
   "id": "820b0fa8",
   "metadata": {},
   "outputs": [],
   "source": [
    "print(boston_df.target)"
   ]
  },
  {
   "cell_type": "code",
   "execution_count": null,
   "id": "6f9b598e",
   "metadata": {},
   "outputs": [],
   "source": [
    "print(boston_df.feature_names)"
   ]
  },
  {
   "cell_type": "markdown",
   "id": "44d822c8",
   "metadata": {},
   "source": [
    "# Preparing The Dataset"
   ]
  },
  {
   "cell_type": "code",
   "execution_count": null,
   "id": "8a8a1eb5",
   "metadata": {},
   "outputs": [],
   "source": [
    "dataset=pd.DataFrame(boston_df.data,columns=boston_df.feature_names)"
   ]
  },
  {
   "cell_type": "code",
   "execution_count": null,
   "id": "caf74168",
   "metadata": {},
   "outputs": [],
   "source": [
    "dataset.head()"
   ]
  },
  {
   "cell_type": "code",
   "execution_count": null,
   "id": "34c2dfb2",
   "metadata": {},
   "outputs": [],
   "source": [
    "dataset['price']=boston_df.target"
   ]
  },
  {
   "cell_type": "code",
   "execution_count": null,
   "id": "1b188a7f",
   "metadata": {},
   "outputs": [],
   "source": [
    "dataset.head()"
   ]
  },
  {
   "cell_type": "code",
   "execution_count": null,
   "id": "3ca6c5f9",
   "metadata": {},
   "outputs": [],
   "source": [
    "dataset.info()"
   ]
  },
  {
   "cell_type": "markdown",
   "id": "f969aa01",
   "metadata": {},
   "source": [
    "Summarizing The States of the data"
   ]
  },
  {
   "cell_type": "code",
   "execution_count": null,
   "id": "58a9f042",
   "metadata": {},
   "outputs": [],
   "source": [
    "dataset.describe()"
   ]
  },
  {
   "cell_type": "code",
   "execution_count": null,
   "id": "7cf4d316",
   "metadata": {},
   "outputs": [],
   "source": [
    "## Check the missing values\n",
    "dataset.isnull().sum()"
   ]
  },
  {
   "cell_type": "code",
   "execution_count": null,
   "id": "57ead722",
   "metadata": {},
   "outputs": [],
   "source": [
    "### Exploratory Data Analysis\n",
    "## Correlation\n",
    "\n",
    "dataset.corr()"
   ]
  },
  {
   "cell_type": "code",
   "execution_count": null,
   "id": "2105668a",
   "metadata": {},
   "outputs": [],
   "source": [
    "import seaborn as sns\n",
    "sns.pairplot(dataset)"
   ]
  },
  {
   "cell_type": "code",
   "execution_count": null,
   "id": "f271d199",
   "metadata": {},
   "outputs": [],
   "source": [
    "plt.scatter(dataset['MedInc'], dataset['price'])\n",
    "plt.xlabel(\"Crime Rate\")\n",
    "plt.ylabel(\"Price\")"
   ]
  },
  {
   "cell_type": "code",
   "execution_count": null,
   "id": "dba350ae",
   "metadata": {},
   "outputs": [],
   "source": [
    "plt.scatter(dataset['HouseAge'], dataset['price'])\n",
    "plt.xlabel(\"RM\")\n",
    "plt.ylabel(\"Price\")"
   ]
  },
  {
   "cell_type": "code",
   "execution_count": null,
   "id": "550e0de3",
   "metadata": {},
   "outputs": [],
   "source": [
    "import seaborn as sns\n",
    "sns.regplot(x=\"HouseAge\", y=\"price\", data=dataset)"
   ]
  },
  {
   "cell_type": "code",
   "execution_count": null,
   "id": "ca8fbace",
   "metadata": {},
   "outputs": [],
   "source": [
    "sns.regplot(x=\"HouseAge\", y=\"Population\", data=dataset)"
   ]
  },
  {
   "cell_type": "code",
   "execution_count": null,
   "id": "89d4b7eb",
   "metadata": {},
   "outputs": [],
   "source": [
    "sns.regplot(x=\"AveOccup\", y=\"price\", data=dataset)"
   ]
  },
  {
   "cell_type": "code",
   "execution_count": null,
   "id": "788a3117",
   "metadata": {},
   "outputs": [],
   "source": [
    "## Independent and Dependent features\n",
    "\n",
    "x = dataset.iloc[:,:-1]\n",
    "y = dataset.iloc[:,-1]"
   ]
  },
  {
   "cell_type": "code",
   "execution_count": null,
   "id": "034cd75d",
   "metadata": {},
   "outputs": [],
   "source": [
    "x.head()"
   ]
  },
  {
   "cell_type": "code",
   "execution_count": null,
   "id": "5ceae55b",
   "metadata": {},
   "outputs": [],
   "source": [
    "y"
   ]
  },
  {
   "cell_type": "code",
   "execution_count": null,
   "id": "2cb58c39",
   "metadata": {},
   "outputs": [],
   "source": [
    "## Train Test Split\n",
    "\n",
    "from sklearn.model_selection import train_test_split\n",
    "x_train,x_test,y_train, y_test = train_test_split(x,y,test_size=0.3,random_state=42)"
   ]
  },
  {
   "cell_type": "code",
   "execution_count": null,
   "id": "fbd508fe",
   "metadata": {},
   "outputs": [],
   "source": [
    "x_train"
   ]
  },
  {
   "cell_type": "code",
   "execution_count": null,
   "id": "d3adeb3b",
   "metadata": {},
   "outputs": [],
   "source": [
    "x_test"
   ]
  },
  {
   "cell_type": "code",
   "execution_count": null,
   "id": "929b072e",
   "metadata": {},
   "outputs": [],
   "source": [
    "## Standardize the dataset\n",
    "\n",
    "from sklearn.preprocessing import StandardScaler\n",
    "scaler=StandardScaler()"
   ]
  },
  {
   "cell_type": "code",
   "execution_count": null,
   "id": "b506a00d",
   "metadata": {},
   "outputs": [],
   "source": [
    "x_train=scaler.fit_transform(x_train)"
   ]
  },
  {
   "cell_type": "code",
   "execution_count": null,
   "id": "31ef597a",
   "metadata": {},
   "outputs": [],
   "source": [
    "x_train=scaler.transform(x_test)"
   ]
  },
  {
   "cell_type": "code",
   "execution_count": null,
   "id": "d15a0bb3",
   "metadata": {},
   "outputs": [],
   "source": [
    "x_train"
   ]
  },
  {
   "cell_type": "markdown",
   "id": "3f47061d",
   "metadata": {},
   "source": [
    "Model Training"
   ]
  },
  {
   "cell_type": "code",
   "execution_count": null,
   "id": "c6dd4d15",
   "metadata": {},
   "outputs": [],
   "source": [
    "from sklearn.model_selection import train_test_split\n",
    "\n",
    "x_train, x_test, y_train, y_test = train_test_split(\n",
    "    x, y, test_size=0.2, random_state=42\n",
    ")\n"
   ]
  },
  {
   "cell_type": "code",
   "execution_count": null,
   "id": "bbef90c5",
   "metadata": {},
   "outputs": [],
   "source": [
    "from sklearn.linear_model import LinearRegression"
   ]
  },
  {
   "cell_type": "code",
   "execution_count": null,
   "id": "dbecfad3",
   "metadata": {},
   "outputs": [],
   "source": [
    "regression = LinearRegression()\n",
    "regression.fit(x_train,y_train)"
   ]
  },
  {
   "cell_type": "code",
   "execution_count": null,
   "id": "726ad049",
   "metadata": {},
   "outputs": [],
   "source": [
    "## print the cofficients and the intercept \n",
    "print(regression.coef_)"
   ]
  },
  {
   "cell_type": "code",
   "execution_count": null,
   "id": "b95cf2b6",
   "metadata": {},
   "outputs": [],
   "source": [
    "print(x_train.shape)\n",
    "print(y_train.shape)\n"
   ]
  },
  {
   "cell_type": "code",
   "execution_count": null,
   "id": "725394b2",
   "metadata": {},
   "outputs": [],
   "source": [
    "print(regression.intercept_)"
   ]
  },
  {
   "cell_type": "code",
   "execution_count": null,
   "id": "81bf9fa2",
   "metadata": {},
   "outputs": [],
   "source": [
    "## On which parameters the model has been trained\n",
    "regression.get_params()"
   ]
  },
  {
   "cell_type": "code",
   "execution_count": null,
   "id": "832832aa",
   "metadata": {},
   "outputs": [],
   "source": [
    "### Predicaton with Test Data\n",
    "reg_pred = regression.predict(x_test)"
   ]
  },
  {
   "cell_type": "code",
   "execution_count": null,
   "id": "cc019a5d",
   "metadata": {},
   "outputs": [],
   "source": [
    "reg_pred"
   ]
  },
  {
   "cell_type": "code",
   "execution_count": null,
   "id": "e76e02d3",
   "metadata": {},
   "outputs": [],
   "source": [
    "## Plot a scatter for predication\n",
    "plt.scatter(y_test,reg_pred)"
   ]
  },
  {
   "cell_type": "code",
   "execution_count": null,
   "id": "4b7721a5",
   "metadata": {},
   "outputs": [],
   "source": [
    "## Residuals\n",
    "residuals = y_test-reg_pred"
   ]
  },
  {
   "cell_type": "code",
   "execution_count": null,
   "id": "4d1f5e2f",
   "metadata": {},
   "outputs": [],
   "source": [
    "residuals"
   ]
  },
  {
   "cell_type": "code",
   "execution_count": null,
   "id": "0342830b",
   "metadata": {},
   "outputs": [],
   "source": [
    "## Plot this residuals\n",
    "\n",
    "sns.displot(residuals,kind=\"kde\")\n"
   ]
  },
  {
   "cell_type": "code",
   "execution_count": null,
   "id": "72f1c49a",
   "metadata": {},
   "outputs": [],
   "source": [
    "## Scatter plot with respect to predication and residuals\n",
    "## uniform distribution\n",
    "\n",
    "plt.scatter(reg_pred,residuals)"
   ]
  },
  {
   "cell_type": "code",
   "execution_count": null,
   "id": "1e4d2147",
   "metadata": {},
   "outputs": [],
   "source": [
    "from sklearn.metrics import mean_squared_error\n",
    "from sklearn.metrics import mean_absolute_error\n",
    "\n",
    "\n",
    "print(mean_absolute_error(y_test,reg_pred))\n",
    "print(mean_squared_error(y_test,reg_pred))\n",
    "print(np.sqrt(mean_squared_error(y_test,reg_pred)))"
   ]
  },
  {
   "cell_type": "markdown",
   "id": "8730e6b9",
   "metadata": {},
   "source": [
    "R Square and adjusted R square\n",
    "R^2=1 SSR/SST\n",
    "\n",
    "R^2 = coefficient of determination SSR = sum of squares of residuals SST = total sum of square "
   ]
  },
  {
   "cell_type": "code",
   "execution_count": null,
   "id": "0b63f16b",
   "metadata": {},
   "outputs": [],
   "source": [
    "from sklearn.metrics import r2_score\n",
    "score=r2_score(y_test,reg_pred)\n",
    "print(score)"
   ]
  },
  {
   "cell_type": "code",
   "execution_count": null,
   "id": "2531146b",
   "metadata": {},
   "outputs": [],
   "source": [
    "# Display adjusted R-squared\n",
    "1 - (1-score)*(len(y_test)-1)/(len(y_test)-x_test.shape[1]-1)"
   ]
  },
  {
   "cell_type": "markdown",
   "id": "574a5e49",
   "metadata": {},
   "source": [
    "Adjusted R2 = 1 - [(1-R2)*(n-1)(n-k-1)]\n",
    "where:\n",
    "\n",
    "R2: The R2 the model n: The number of observation K: The number of predicator variable"
   ]
  },
  {
   "cell_type": "markdown",
   "id": "daaaa3b0",
   "metadata": {},
   "source": [
    "# New Data Predication"
   ]
  },
  {
   "cell_type": "code",
   "execution_count": null,
   "id": "ed0ac38a",
   "metadata": {},
   "outputs": [],
   "source": [
    "boston_df.data[0].reshape(1,-1)"
   ]
  },
  {
   "cell_type": "code",
   "execution_count": null,
   "id": "929a766e",
   "metadata": {},
   "outputs": [],
   "source": [
    "## transformation of new data\n",
    "\n",
    "scaler.transform(boston_df.data[0].reshape(1,-1))"
   ]
  },
  {
   "cell_type": "code",
   "execution_count": null,
   "id": "e696e7a1",
   "metadata": {},
   "outputs": [],
   "source": [
    "regression.predict(scaler.transform(boston_df.data[0].reshape(1,-1)))"
   ]
  },
  {
   "cell_type": "markdown",
   "id": "103a1f02",
   "metadata": {},
   "source": [
    "# Pickling The Model file For Deployment"
   ]
  },
  {
   "cell_type": "code",
   "execution_count": null,
   "id": "f4e227ea",
   "metadata": {},
   "outputs": [],
   "source": [
    "import pickle"
   ]
  },
  {
   "cell_type": "code",
   "execution_count": null,
   "id": "3e803d0c",
   "metadata": {},
   "outputs": [],
   "source": [
    "pickle.dump(regression,open('regmodel.pkl','wb'))"
   ]
  },
  {
   "cell_type": "code",
   "execution_count": null,
   "id": "f0ba3e72",
   "metadata": {},
   "outputs": [],
   "source": [
    "pickle_model = pickle.load(open('regmodel.pkl', 'rb'))"
   ]
  },
  {
   "cell_type": "code",
   "execution_count": null,
   "id": "a05d6107",
   "metadata": {},
   "outputs": [],
   "source": [
    "## Predication\n",
    "pickle_model.predict(scaler.transform(boston_df.data[0].reshape(1,-1)))"
   ]
  },
  {
   "cell_type": "code",
   "execution_count": null,
   "id": "d708fa1f",
   "metadata": {},
   "outputs": [],
   "source": []
  }
 ],
 "metadata": {
  "kernelspec": {
   "display_name": "venv",
   "language": "python",
   "name": "python3"
  },
  "language_info": {
   "codemirror_mode": {
    "name": "ipython",
    "version": 3
   },
   "file_extension": ".py",
   "mimetype": "text/x-python",
   "name": "python",
   "nbconvert_exporter": "python",
   "pygments_lexer": "ipython3",
   "version": "3.7.0"
  }
 },
 "nbformat": 4,
 "nbformat_minor": 5
}
